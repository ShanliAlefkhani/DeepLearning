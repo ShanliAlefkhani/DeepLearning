{
 "cells": [
  {
   "cell_type": "code",
   "execution_count": 90,
   "id": "a7abce92",
   "metadata": {},
   "outputs": [],
   "source": [
    "import torch.nn.functional as F\n",
    "\n",
    "from torch import nn\n",
    "from torch import optim\n",
    "from torch.utils.data import DataLoader\n",
    "from torchvision.datasets import FashionMNIST\n",
    "from torchvision.transforms import ToTensor\n",
    "from matplotlib import pyplot as plt"
   ]
  },
  {
   "cell_type": "code",
   "execution_count": 34,
   "id": "cb58401d",
   "metadata": {},
   "outputs": [],
   "source": [
    "train_data = FashionMNIST('datasets/', download=True, transform=ToTensor(), train=True)\n",
    "test_data = FashionMNIST('datasets/', download=True, transform=ToTensor(), train=False)"
   ]
  },
  {
   "cell_type": "code",
   "execution_count": 35,
   "id": "3bc62f6d",
   "metadata": {},
   "outputs": [],
   "source": [
    "train_loader = DataLoader(train_data, batch_size=64, shuffle=True)\n",
    "test_loader = DataLoader(test_data, batch_size=64, shuffle=True)"
   ]
  },
  {
   "cell_type": "code",
   "execution_count": 91,
   "id": "dfaf4568",
   "metadata": {},
   "outputs": [],
   "source": [
    "class TinyModel(nn.Module):\n",
    "    def __init__(self):\n",
    "        super().__init__()\n",
    "        \n",
    "        self.conv1 = nn.Conv2d(1, 3, 3, bias=False)\n",
    "        self.conv2 = nn.Conv2d(3, 12, 3, bias=False)\n",
    "        self.fc1 = nn.Linear(6912, 10)\n",
    "    \n",
    "    def forward(self, x):\n",
    "        x = self.conv1(x)\n",
    "        x = F.relu(x)\n",
    "        x = self.conv2(x)\n",
    "        x = F.relu(x)\n",
    "        x = torch.flatten(x, start_dim=1)\n",
    "#         print(x.shape)\n",
    "        x = self.fc1(x)\n",
    "        return x"
   ]
  },
  {
   "cell_type": "code",
   "execution_count": 92,
   "id": "fc6880e3",
   "metadata": {},
   "outputs": [
    {
     "name": "stdout",
     "output_type": "stream",
     "text": [
      "acc:80.63500213623047, loss: 530.6796344071627\n",
      "60000 tensor(48381)\n",
      "acc:87.05166625976562, loss: 351.14498350024223\n",
      "60000 tensor(52231)\n",
      "acc:88.57333374023438, loss: 310.5926681160927\n",
      "60000 tensor(53144)\n",
      "acc:89.39167022705078, loss: 283.42521400749683\n",
      "60000 tensor(53635)\n",
      "acc:90.34166717529297, loss: 258.44903180003166\n",
      "60000 tensor(54205)\n",
      "acc:90.93499755859375, loss: 241.90007883310318\n",
      "60000 tensor(54561)\n",
      "acc:91.54499816894531, loss: 224.68735794723034\n",
      "60000 tensor(54927)\n",
      "acc:91.96666717529297, loss: 214.2470863237977\n",
      "60000 tensor(55180)\n",
      "acc:92.37833404541016, loss: 200.66003990918398\n",
      "60000 tensor(55427)\n",
      "acc:92.92832946777344, loss: 188.4079111777246\n",
      "60000 tensor(55757)\n"
     ]
    }
   ],
   "source": [
    "model = TinyModel()\n",
    "loss_fn = nn.CrossEntropyLoss()\n",
    "optimizer = optim.SGD(model.parameters(), lr=0.01, momentum=0.9)\n",
    "\n",
    "model.train()\n",
    "\n",
    "for epoch in range(10):\n",
    "    total_correct = 0\n",
    "    total_data = 0\n",
    "    running_loss = 0\n",
    "    for batch, (X, y) in enumerate(train_loader):\n",
    "        optimizer.zero_grad()\n",
    "        \n",
    "        out = model(X)\n",
    "        loss = loss_fn(out, y)\n",
    "        running_loss += loss.item()\n",
    "        loss.backward()\n",
    "        optimizer.step()\n",
    "        y_pred = torch.argmax(out, dim=1)\n",
    "        total_correct += torch.sum(y_pred == y)\n",
    "        total_data += y.shape[0]\n",
    "    print(f\"acc:{total_correct / total_data * 100}, loss: {running_loss}\")\n",
    "    print(total_data, total_correct)"
   ]
  },
  {
   "cell_type": "code",
   "execution_count": 21,
   "id": "c4b32b6d",
   "metadata": {},
   "outputs": [
    {
     "data": {
      "text/plain": [
       "<matplotlib.image.AxesImage at 0x7fd53b732e30>"
      ]
     },
     "execution_count": 21,
     "metadata": {},
     "output_type": "execute_result"
    },
    {
     "data": {
      "image/png": "[encoded data removed]",
      "text/plain": [
       "<Figure size 640x480 with 1 Axes>"
      ]
     },
     "metadata": {},
     "output_type": "display_data"
    }
   ],
   "source": [
    "train_data[0]\n",
    "plt.imshow(train_data[6][0],cmap='gray')"
   ]
  }
 ],
 "metadata": {
  "kernelspec": {
   "display_name": "deep-learning",
   "language": "python",
   "name": "deep-learning"
  },
  "language_info": {
   "codemirror_mode": {
    "name": "ipython",
    "version": 3
   },
   "file_extension": ".py",
   "mimetype": "text/x-python",
   "name": "python",
   "nbconvert_exporter": "python",
   "pygments_lexer": "ipython3",
   "version": "3.10.6"
  }
 },
 "nbformat": 4,
 "nbformat_minor": 5
}
